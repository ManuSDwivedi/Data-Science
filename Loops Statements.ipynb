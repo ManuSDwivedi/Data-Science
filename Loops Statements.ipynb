{
 "cells": [
  {
   "cell_type": "code",
   "execution_count": null,
   "id": "5a23b36f-2b5c-481a-b61d-c243a2808f7a",
   "metadata": {},
   "outputs": [],
   "source": [
    "# Loop Statments"
   ]
  },
  {
   "cell_type": "markdown",
   "id": "5a8b5d08-c224-41fa-85c8-2e560a7c23a2",
   "metadata": {},
   "source": [
    "###  1) While Loop"
   ]
  },
  {
   "cell_type": "markdown",
   "id": "d28c271f-f952-4501-9641-ce80f65eb3ff",
   "metadata": {},
   "source": [
    "###  2) For Loop"
   ]
  },
  {
   "cell_type": "markdown",
   "id": "a6e8506f-d60b-48bb-90e5-9e01cfb083e3",
   "metadata": {},
   "source": [
    "### 3) Nested Loop"
   ]
  },
  {
   "cell_type": "markdown",
   "id": "fe8a91bb-323f-4d89-8e6b-ed438cf7c6ed",
   "metadata": {},
   "source": [
    "### 4) Loop Control"
   ]
  },
  {
   "cell_type": "markdown",
   "id": "ba3277fa-e95c-4803-b91e-565ac98933aa",
   "metadata": {},
   "source": [
    "## 1) while - else loop"
   ]
  },
  {
   "cell_type": "code",
   "execution_count": 2,
   "id": "ab36760e-4a04-48ee-b110-ad2ee3c9650f",
   "metadata": {},
   "outputs": [
    {
     "name": "stdout",
     "output_type": "stream",
     "text": [
      "25\n",
      "26\n",
      "27\n",
      "28\n",
      "29\n",
      "30\n",
      "31\n",
      "32\n",
      "33\n",
      "34\n",
      "35\n",
      "36\n",
      "37\n",
      "38\n",
      "39\n",
      "40\n",
      "41\n",
      "42\n",
      "43\n",
      "44\n",
      "45\n",
      "46\n",
      "47\n",
      "48\n",
      "49\n",
      "50\n",
      "51\n",
      "52\n",
      "53\n",
      "54\n",
      "55\n",
      "56\n",
      "57\n",
      "58\n",
      "59\n",
      "60\n",
      "its time for retirement\n"
     ]
    }
   ],
   "source": [
    "joining_age = 25\n",
    "while joining_age <= 60:\n",
    "    print(joining_age)\n",
    "    joining_age = joining_age + 1\n",
    "else: \n",
    "    print (\"its time for retirement\")"
   ]
  },
  {
   "cell_type": "code",
   "execution_count": 9,
   "id": "24e9378a-04ed-4bf4-9c88-f17cc39dca2c",
   "metadata": {},
   "outputs": [
    {
     "name": "stdout",
     "output_type": "stream",
     "text": [
      "1000\n",
      "900\n",
      "800\n",
      "700\n",
      "600\n",
      "500\n",
      "400\n",
      "300\n",
      "200\n",
      "100\n",
      "low balance\n"
     ]
    }
   ],
   "source": [
    "# ATM Witdrawal\n",
    "\n",
    "money = 1000\n",
    "while money !=0 :\n",
    "    print(money)\n",
    "    money = money - 100\n",
    "else :\n",
    "    print(\"low balance\")\n"
   ]
  },
  {
   "cell_type": "markdown",
   "id": "dc69573a-79ae-417d-b720-ad0988b94a41",
   "metadata": {},
   "source": [
    "## 2) For Loop"
   ]
  },
  {
   "cell_type": "code",
   "execution_count": 10,
   "id": "d50408ed-a3ac-403a-8b3e-c8fbcac83ad4",
   "metadata": {},
   "outputs": [],
   "source": [
    "Fruits_list = [ \"Mango\", \"Apple\", \"Guava\", \"Watermelon\", \"Grapes\"] #list"
   ]
  },
  {
   "cell_type": "code",
   "execution_count": 11,
   "id": "ae903beb-a463-4dfc-907e-4f1756b73f73",
   "metadata": {},
   "outputs": [
    {
     "name": "stdout",
     "output_type": "stream",
     "text": [
      "Mango\n",
      "Apple\n",
      "Guava\n",
      "Watermelon\n",
      "Grapes\n"
     ]
    }
   ],
   "source": [
    "for X in Fruits_list : # X will traverse through the contents of the list\n",
    "    print(X)"
   ]
  },
  {
   "cell_type": "code",
   "execution_count": 14,
   "id": "32b235b5-f7d6-47ea-af23-d3d864f4226a",
   "metadata": {},
   "outputs": [
    {
     "name": "stdout",
     "output_type": "stream",
     "text": [
      "Mango\n",
      "Apple\n",
      "Guava\n",
      "Your favourite Guava is found\n"
     ]
    }
   ],
   "source": [
    " for X in Fruits_list:\n",
    "        print(X)\n",
    "        if X == \"Guava\":\n",
    "            print(\"Your favourite Guava is found\")\n",
    "            break"
   ]
  },
  {
   "cell_type": "code",
   "execution_count": null,
   "id": "df8a5fd6-6254-4ec5-bbf8-70f81ac62373",
   "metadata": {},
   "outputs": [],
   "source": [
    "# range function"
   ]
  },
  {
   "cell_type": "code",
   "execution_count": 1,
   "id": "74a1185d-2f1f-4b45-a004-8a3dac1f22d8",
   "metadata": {},
   "outputs": [
    {
     "name": "stdout",
     "output_type": "stream",
     "text": [
      "1\n",
      "2\n",
      "3\n",
      "4\n",
      "5\n"
     ]
    }
   ],
   "source": [
    "for i in range (1,6):\n",
    "    print(i)"
   ]
  },
  {
   "cell_type": "code",
   "execution_count": 2,
   "id": "85453feb-4353-4cfd-b869-3fca71c07568",
   "metadata": {},
   "outputs": [
    {
     "name": "stdout",
     "output_type": "stream",
     "text": [
      "1\n",
      "3\n",
      "5\n",
      "7\n",
      "9\n"
     ]
    }
   ],
   "source": [
    "for i in range(1,10,2):#jump of two\n",
    "    print(i)\n"
   ]
  },
  {
   "cell_type": "code",
   "execution_count": 35,
   "id": "cb7754af-234e-48f5-8621-57d973176063",
   "metadata": {},
   "outputs": [
    {
     "name": "stdout",
     "output_type": "stream",
     "text": [
      "*\n",
      "**\n",
      "***\n",
      "****\n",
      "*****\n",
      "******\n",
      "*******\n"
     ]
    }
   ],
   "source": [
    "##Nested loops\n",
    "n=7\n",
    "\n",
    "for i in range(0,n):#outer loop\n",
    "    for j in range(0,i+1): #inner loop\n",
    "        print(\"*\",end=\"\")#end appends after last value\n",
    "    print(\"\\r\")#inner loop new line"
   ]
  },
  {
   "cell_type": "code",
   "execution_count": null,
   "id": "c634c09a-8821-44c2-bf5e-83af4b432b1f",
   "metadata": {},
   "outputs": [],
   "source": []
  },
  {
   "cell_type": "code",
   "execution_count": null,
   "id": "3c49552b-94f6-4aca-b30c-f49247c22834",
   "metadata": {},
   "outputs": [],
   "source": []
  }
 ],
 "metadata": {
  "kernelspec": {
   "display_name": "Python 3 (ipykernel)",
   "language": "python",
   "name": "python3"
  },
  "language_info": {
   "codemirror_mode": {
    "name": "ipython",
    "version": 3
   },
   "file_extension": ".py",
   "mimetype": "text/x-python",
   "name": "python",
   "nbconvert_exporter": "python",
   "pygments_lexer": "ipython3",
   "version": "3.10.8"
  }
 },
 "nbformat": 4,
 "nbformat_minor": 5
}
