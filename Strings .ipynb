{
 "cells": [
  {
   "cell_type": "markdown",
   "id": "b8d29d25-c2ae-4cd4-830c-0a3bad178ecb",
   "metadata": {},
   "source": [
    "## Logical operators\n",
    "1)and\n",
    "2)or\n",
    "3)not"
   ]
  },
  {
   "cell_type": "code",
   "execution_count": 1,
   "id": "ccc2fbf8-a903-459b-ba30-73a62ba3e7e0",
   "metadata": {},
   "outputs": [],
   "source": [
    "lst_a = [1,2,3,4,5]\n",
    "lst_b = [1,2,3,4,5]"
   ]
  },
  {
   "cell_type": "code",
   "execution_count": 2,
   "id": "427fc4d6-2d8c-4f7f-bb88-f4f407233a91",
   "metadata": {},
   "outputs": [
    {
     "data": {
      "text/plain": [
       "140175252058944"
      ]
     },
     "execution_count": 2,
     "metadata": {},
     "output_type": "execute_result"
    }
   ],
   "source": [
    "id(lst_a) # retiurns address of object"
   ]
  },
  {
   "cell_type": "code",
   "execution_count": 3,
   "id": "7e2e9407-f319-4630-8ee9-6a1b45f33102",
   "metadata": {},
   "outputs": [
    {
     "name": "stdout",
     "output_type": "stream",
     "text": [
      "140175252058944\n",
      "140175252058752\n"
     ]
    }
   ],
   "source": [
    "print(id(lst_a))# address of a\n",
    "print(id(lst_b))# address of b , both are different"
   ]
  },
  {
   "cell_type": "code",
   "execution_count": 4,
   "id": "92de4bda-c850-488f-8fae-5ccd32798de4",
   "metadata": {},
   "outputs": [
    {
     "data": {
      "text/plain": [
       "False"
      ]
     },
     "execution_count": 4,
     "metadata": {},
     "output_type": "execute_result"
    }
   ],
   "source": [
    "lst_a is lst_b # both address are different, therefore false"
   ]
  },
  {
   "cell_type": "code",
   "execution_count": 5,
   "id": "dca662bd-e1f1-4e5e-8aaa-fd3b2e90b5fb",
   "metadata": {},
   "outputs": [],
   "source": [
    "lst_b=lst_a # making adress of both same"
   ]
  },
  {
   "cell_type": "code",
   "execution_count": 7,
   "id": "bbca6bfa-91fc-4790-8aae-d702cb317a9d",
   "metadata": {},
   "outputs": [
    {
     "data": {
      "text/plain": [
       "140175252058944"
      ]
     },
     "execution_count": 7,
     "metadata": {},
     "output_type": "execute_result"
    }
   ],
   "source": [
    "id(lst_a)"
   ]
  },
  {
   "cell_type": "code",
   "execution_count": 8,
   "id": "c60917c6-cf3a-444f-8bf8-db8c1fa2d6e4",
   "metadata": {},
   "outputs": [
    {
     "data": {
      "text/plain": [
       "140175252058944"
      ]
     },
     "execution_count": 8,
     "metadata": {},
     "output_type": "execute_result"
    }
   ],
   "source": [
    "id(lst_b)"
   ]
  },
  {
   "cell_type": "code",
   "execution_count": 9,
   "id": "58fcdd64-f85e-4855-b31c-15c7dd19ffdf",
   "metadata": {},
   "outputs": [
    {
     "data": {
      "text/plain": [
       "True"
      ]
     },
     "execution_count": 9,
     "metadata": {},
     "output_type": "execute_result"
    }
   ],
   "source": [
    "lst_a is lst_b # checking address with : is"
   ]
  },
  {
   "cell_type": "code",
   "execution_count": 10,
   "id": "dfff6e57-b510-46d5-a5de-14ab4cc1455f",
   "metadata": {},
   "outputs": [
    {
     "data": {
      "text/plain": [
       "True"
      ]
     },
     "execution_count": 10,
     "metadata": {},
     "output_type": "execute_result"
    }
   ],
   "source": [
    "lst_a == lst_b # checks values/contents"
   ]
  },
  {
   "cell_type": "code",
   "execution_count": 12,
   "id": "a2c40317-df32-44b2-b7d0-63b5575bfe9b",
   "metadata": {},
   "outputs": [
    {
     "name": "stdout",
     "output_type": "stream",
     "text": [
      "bike is faster than car :False\n"
     ]
    }
   ],
   "source": [
    "speed_bike = 150\n",
    "speed_car = 200\n",
    "print(f\"bike is faster than car :{ speed_bike > speed_car}\") #example of true, false"
   ]
  },
  {
   "cell_type": "markdown",
   "id": "16a0556d-844c-4d48-b8cd-1bca1659fabd",
   "metadata": {},
   "source": [
    "## Arithematic Operations\n"
   ]
  },
  {
   "cell_type": "code",
   "execution_count": 13,
   "id": "fc1c5254-e70d-4379-83de-e8dfaa2c2711",
   "metadata": {},
   "outputs": [
    {
     "data": {
      "text/plain": [
       "'0b1010'"
      ]
     },
     "execution_count": 13,
     "metadata": {},
     "output_type": "execute_result"
    }
   ],
   "source": [
    "number = 10\n",
    "bin(number)"
   ]
  },
  {
   "cell_type": "code",
   "execution_count": 14,
   "id": "c0ef1c50-4c7d-4d45-ab32-ac49b0459eaf",
   "metadata": {},
   "outputs": [
    {
     "data": {
      "text/plain": [
       "-11"
      ]
     },
     "execution_count": 14,
     "metadata": {},
     "output_type": "execute_result"
    }
   ],
   "source": [
    "~number"
   ]
  },
  {
   "cell_type": "markdown",
   "id": "ec97d9cd-21df-4659-8e6e-c3636c8ca9da",
   "metadata": {},
   "source": [
    "# Strings"
   ]
  },
  {
   "cell_type": "code",
   "execution_count": 19,
   "id": "62f2e993-9d0b-4c4a-8c57-f9ecd3d77762",
   "metadata": {},
   "outputs": [],
   "source": [
    "str1 = \"Manu Dwivedi\""
   ]
  },
  {
   "cell_type": "code",
   "execution_count": 20,
   "id": "695b7cb9-82b0-48b0-96c2-ce84db45783c",
   "metadata": {},
   "outputs": [
    {
     "data": {
      "text/plain": [
       "'Manu Dwivedi'"
      ]
     },
     "execution_count": 20,
     "metadata": {},
     "output_type": "execute_result"
    }
   ],
   "source": [
    "str1"
   ]
  },
  {
   "cell_type": "code",
   "execution_count": 21,
   "id": "04b2d7fd-53a1-46bd-87c4-60ead1dc5d58",
   "metadata": {},
   "outputs": [
    {
     "data": {
      "text/plain": [
       "' '"
      ]
     },
     "execution_count": 21,
     "metadata": {},
     "output_type": "execute_result"
    }
   ],
   "source": [
    "str1[4]"
   ]
  },
  {
   "cell_type": "code",
   "execution_count": 22,
   "id": "f6decb36-d97c-4131-b0c5-8e36b1a0bb58",
   "metadata": {},
   "outputs": [
    {
     "data": {
      "text/plain": [
       "'n'"
      ]
     },
     "execution_count": 22,
     "metadata": {},
     "output_type": "execute_result"
    }
   ],
   "source": [
    "str1[2]"
   ]
  },
  {
   "cell_type": "code",
   "execution_count": null,
   "id": "b8d52e39-6a11-4a30-9b7b-50708a08ce80",
   "metadata": {},
   "outputs": [],
   "source": [
    "# Slicing Operation"
   ]
  },
  {
   "cell_type": "code",
   "execution_count": 23,
   "id": "c8e611d2-5478-4b83-a34c-121ae8f40af9",
   "metadata": {},
   "outputs": [
    {
     "data": {
      "text/plain": [
       "' Dwi'"
      ]
     },
     "execution_count": 23,
     "metadata": {},
     "output_type": "execute_result"
    }
   ],
   "source": [
    "str1[4:8]"
   ]
  },
  {
   "cell_type": "code",
   "execution_count": 25,
   "id": "07ac9c23-af2e-4074-90d8-6082e8a5ecbf",
   "metadata": {},
   "outputs": [
    {
     "data": {
      "text/plain": [
       "'i'"
      ]
     },
     "execution_count": 25,
     "metadata": {},
     "output_type": "execute_result"
    }
   ],
   "source": [
    "str1[-1]"
   ]
  },
  {
   "cell_type": "code",
   "execution_count": 26,
   "id": "86df4561-4e9a-4dbc-a3c8-eae7956e6439",
   "metadata": {},
   "outputs": [
    {
     "data": {
      "text/plain": [
       "'ivedi'"
      ]
     },
     "execution_count": 26,
     "metadata": {},
     "output_type": "execute_result"
    }
   ],
   "source": [
    "str1[-5:]"
   ]
  },
  {
   "cell_type": "code",
   "execution_count": 27,
   "id": "61f8add6-e730-4774-a1a1-952eaa5f05c9",
   "metadata": {},
   "outputs": [
    {
     "data": {
      "text/plain": [
       "'ved'"
      ]
     },
     "execution_count": 27,
     "metadata": {},
     "output_type": "execute_result"
    }
   ],
   "source": [
    "str1[-4:-1]"
   ]
  },
  {
   "cell_type": "code",
   "execution_count": 28,
   "id": "f20ad089-fa62-4307-876d-b1d8b56b1071",
   "metadata": {},
   "outputs": [
    {
     "data": {
      "text/plain": [
       "'Manu Dwived'"
      ]
     },
     "execution_count": 28,
     "metadata": {},
     "output_type": "execute_result"
    }
   ],
   "source": [
    "str1[:-1]"
   ]
  },
  {
   "cell_type": "code",
   "execution_count": 29,
   "id": "fe2e2586-c682-40fe-9ff3-f060dc935f70",
   "metadata": {},
   "outputs": [
    {
     "data": {
      "text/plain": [
       "'Manu Dwivedi'"
      ]
     },
     "execution_count": 29,
     "metadata": {},
     "output_type": "execute_result"
    }
   ],
   "source": [
    "str1[:]"
   ]
  },
  {
   "cell_type": "code",
   "execution_count": 30,
   "id": "fe2248b9-f2a0-4658-b64e-8604a0f5b9b6",
   "metadata": {},
   "outputs": [
    {
     "data": {
      "text/plain": [
       "''"
      ]
     },
     "execution_count": 30,
     "metadata": {},
     "output_type": "execute_result"
    }
   ],
   "source": [
    "str1[-5:2]"
   ]
  },
  {
   "cell_type": "code",
   "execution_count": 31,
   "id": "87c0922d-04a0-4faf-9dfc-7ede67900f28",
   "metadata": {},
   "outputs": [
    {
     "data": {
      "text/plain": [
       "'Manu Dwivedi'"
      ]
     },
     "execution_count": 31,
     "metadata": {},
     "output_type": "execute_result"
    }
   ],
   "source": [
    "str1 [::]"
   ]
  },
  {
   "cell_type": "code",
   "execution_count": 32,
   "id": "fda490c6-5979-49b7-9ade-37fec40a76e0",
   "metadata": {},
   "outputs": [
    {
     "data": {
      "text/plain": [
       "'ideviwD unaM'"
      ]
     },
     "execution_count": 32,
     "metadata": {},
     "output_type": "execute_result"
    }
   ],
   "source": [
    "str1[::-1]"
   ]
  },
  {
   "cell_type": "code",
   "execution_count": 33,
   "id": "0ae7afec-8315-4dd7-848f-85a7c090e054",
   "metadata": {},
   "outputs": [
    {
     "data": {
      "text/plain": [
       "'ieiDua'"
      ]
     },
     "execution_count": 33,
     "metadata": {},
     "output_type": "execute_result"
    }
   ],
   "source": [
    "str1[::-2]"
   ]
  },
  {
   "cell_type": "code",
   "execution_count": 34,
   "id": "23e846df-619d-4624-85ee-f328d2f90a87",
   "metadata": {},
   "outputs": [
    {
     "data": {
      "text/plain": [
       "'Mn wvd'"
      ]
     },
     "execution_count": 34,
     "metadata": {},
     "output_type": "execute_result"
    }
   ],
   "source": [
    "str1[::2]"
   ]
  },
  {
   "cell_type": "code",
   "execution_count": 41,
   "id": "54cdbbb4-e92c-4229-a38e-7c0e0377c372",
   "metadata": {},
   "outputs": [
    {
     "data": {
      "text/plain": [
       "'ecneicS'"
      ]
     },
     "execution_count": 41,
     "metadata": {},
     "output_type": "execute_result"
    }
   ],
   "source": [
    "course_name = \"Data Science Masters\"\n",
    "course_name[11:4:-1]"
   ]
  },
  {
   "cell_type": "code",
   "execution_count": 48,
   "id": "4eb7fc19-0cf5-447e-b4be-a3637a4d15bf",
   "metadata": {},
   "outputs": [
    {
     "data": {
      "text/plain": [
       "'Science'"
      ]
     },
     "execution_count": 48,
     "metadata": {},
     "output_type": "execute_result"
    }
   ],
   "source": [
    "course_name[5:12]"
   ]
  },
  {
   "cell_type": "code",
   "execution_count": null,
   "id": "1d7a3611-4ecc-4e5c-bf91-c6600899cddb",
   "metadata": {},
   "outputs": [],
   "source": [
    "##Concatination"
   ]
  },
  {
   "cell_type": "code",
   "execution_count": 49,
   "id": "31506ce9-5350-477a-af11-41ee8c54340c",
   "metadata": {},
   "outputs": [
    {
     "data": {
      "text/plain": [
       "'Data Science MastersData Science MastersData Science MastersData Science MastersData Science Masters'"
      ]
     },
     "execution_count": 49,
     "metadata": {},
     "output_type": "execute_result"
    }
   ],
   "source": [
    "course_name *5"
   ]
  },
  {
   "cell_type": "code",
   "execution_count": 50,
   "id": "52fa28b7-9331-459d-a7d7-84823d0bebd3",
   "metadata": {},
   "outputs": [
    {
     "name": "stdout",
     "output_type": "stream",
     "text": [
      "helloWorld\n"
     ]
    }
   ],
   "source": [
    "print(\"hello\" + \"World\")"
   ]
  },
  {
   "cell_type": "code",
   "execution_count": 51,
   "id": "fa27eda9-690b-42f6-95b8-f4e2d74c68d6",
   "metadata": {},
   "outputs": [
    {
     "data": {
      "text/plain": [
       "20"
      ]
     },
     "execution_count": 51,
     "metadata": {},
     "output_type": "execute_result"
    }
   ],
   "source": [
    "len(course_name)"
   ]
  },
  {
   "cell_type": "code",
   "execution_count": 52,
   "id": "045cf677-1c5b-429c-a734-53f76e4d4cbe",
   "metadata": {},
   "outputs": [
    {
     "data": {
      "text/plain": [
       "'Data Science Masters'"
      ]
     },
     "execution_count": 52,
     "metadata": {},
     "output_type": "execute_result"
    }
   ],
   "source": [
    "course_name"
   ]
  },
  {
   "cell_type": "code",
   "execution_count": 54,
   "id": "eacaceaa-458e-4aea-a5b9-e04e92ed0e2c",
   "metadata": {},
   "outputs": [
    {
     "data": {
      "text/plain": [
       "1"
      ]
     },
     "execution_count": 54,
     "metadata": {},
     "output_type": "execute_result"
    }
   ],
   "source": [
    "course_name.find(\"a\")"
   ]
  },
  {
   "cell_type": "code",
   "execution_count": 56,
   "id": "6ff229a4-d144-49a0-b4d9-bf8a8e51d136",
   "metadata": {},
   "outputs": [
    {
     "data": {
      "text/plain": [
       "3"
      ]
     },
     "execution_count": 56,
     "metadata": {},
     "output_type": "execute_result"
    }
   ],
   "source": [
    "course_name.count(\"a\")"
   ]
  },
  {
   "cell_type": "code",
   "execution_count": 62,
   "id": "e666c5f2-ce8b-4780-9f5f-8d83908a30da",
   "metadata": {},
   "outputs": [
    {
     "data": {
      "text/plain": [
       "['Data', 'Science', 'Masters']"
      ]
     },
     "execution_count": 62,
     "metadata": {},
     "output_type": "execute_result"
    }
   ],
   "source": [
    "#string split function\n",
    "\n",
    "course_name.split(\" \")"
   ]
  },
  {
   "cell_type": "code",
   "execution_count": 63,
   "id": "f92449ae-79c4-4718-af3b-cf7e61d83bc3",
   "metadata": {},
   "outputs": [
    {
     "data": {
      "text/plain": [
       "['Data Science Ma', 'ter', '']"
      ]
     },
     "execution_count": 63,
     "metadata": {},
     "output_type": "execute_result"
    }
   ],
   "source": [
    "course_name.split(\"s\")"
   ]
  },
  {
   "cell_type": "code",
   "execution_count": 64,
   "id": "7fc8d252-da40-47c0-bc82-da15ef326aa1",
   "metadata": {},
   "outputs": [
    {
     "data": {
      "text/plain": [
       "('Data ', 'S', 'cience Masters')"
      ]
     },
     "execution_count": 64,
     "metadata": {},
     "output_type": "execute_result"
    }
   ],
   "source": [
    "course_name.partition('S')"
   ]
  },
  {
   "cell_type": "code",
   "execution_count": 65,
   "id": "66c4dee0-16c4-4c21-97e3-bd1284dd5fa4",
   "metadata": {},
   "outputs": [
    {
     "data": {
      "text/plain": [
       "'DATA SCIENCE MASTERS'"
      ]
     },
     "execution_count": 65,
     "metadata": {},
     "output_type": "execute_result"
    }
   ],
   "source": [
    "#string upper and lower case\n",
    "course_name.upper()"
   ]
  },
  {
   "cell_type": "code",
   "execution_count": 66,
   "id": "db8fd4d4-0e1e-4d79-9d26-48e371fee881",
   "metadata": {},
   "outputs": [
    {
     "data": {
      "text/plain": [
       "'data science masters'"
      ]
     },
     "execution_count": 66,
     "metadata": {},
     "output_type": "execute_result"
    }
   ],
   "source": [
    "course_name.lower()"
   ]
  },
  {
   "cell_type": "code",
   "execution_count": 69,
   "id": "9aa711b9-0f24-48a6-8193-dcb3388d9eec",
   "metadata": {},
   "outputs": [
    {
     "data": {
      "text/plain": [
       "'dATA sCIENCE mASTERS'"
      ]
     },
     "execution_count": 69,
     "metadata": {},
     "output_type": "execute_result"
    }
   ],
   "source": [
    "course_name.swapcase()"
   ]
  },
  {
   "cell_type": "code",
   "execution_count": 71,
   "id": "4bc2ffc3-2382-4fbd-8c35-dd52ddb21821",
   "metadata": {},
   "outputs": [
    {
     "data": {
      "text/plain": [
       "'Data Science Masters'"
      ]
     },
     "execution_count": 71,
     "metadata": {},
     "output_type": "execute_result"
    }
   ],
   "source": [
    "course_name.title()"
   ]
  },
  {
   "cell_type": "code",
   "execution_count": null,
   "id": "145dd9e9-48b3-473e-922e-5ff8aa0ea09b",
   "metadata": {},
   "outputs": [],
   "source": []
  }
 ],
 "metadata": {
  "kernelspec": {
   "display_name": "Python 3 (ipykernel)",
   "language": "python",
   "name": "python3"
  },
  "language_info": {
   "codemirror_mode": {
    "name": "ipython",
    "version": 3
   },
   "file_extension": ".py",
   "mimetype": "text/x-python",
   "name": "python",
   "nbconvert_exporter": "python",
   "pygments_lexer": "ipython3",
   "version": "3.10.8"
  }
 },
 "nbformat": 4,
 "nbformat_minor": 5
}
