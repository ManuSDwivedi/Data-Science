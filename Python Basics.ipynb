{
 "cells": [
  {
   "cell_type": "markdown",
   "id": "49639cd4-384d-440f-9062-43235ae841c3",
   "metadata": {},
   "source": [
    "# Python Basics"
   ]
  },
  {
   "cell_type": "code",
   "execution_count": 19,
   "id": "2b84186e-0edb-407a-9560-abcf866f85f3",
   "metadata": {},
   "outputs": [],
   "source": [
    "name =\"manu\" # Storing String value\n",
    "age = 29     #Storing integer\n",
    "degree = \"MBA\""
   ]
  },
  {
   "cell_type": "code",
   "execution_count": 22,
   "id": "77d50dd3-98c2-45bd-b9ec-4e84b61e35ee",
   "metadata": {},
   "outputs": [
    {
     "name": "stdout",
     "output_type": "stream",
     "text": [
      "My age is 29 and I have completed MBA with name manu\n"
     ]
    }
   ],
   "source": [
    "#Printing the stored values\n",
    "print(\"My age is {} and I have completed {} with name {}\" .format(age,degree,name)) #method 1"
   ]
  },
  {
   "cell_type": "code",
   "execution_count": 24,
   "id": "3c005009-8a85-446f-b789-a9de3822e28d",
   "metadata": {},
   "outputs": [
    {
     "name": "stdout",
     "output_type": "stream",
     "text": [
      "My age is 29 and I have completed MBA with name manu\n"
     ]
    }
   ],
   "source": [
    "print(f\"My age is {age} and I have completed {degree} with name {name}\") # method 2"
   ]
  },
  {
   "cell_type": "markdown",
   "id": "3f07c87d-09df-4ee2-b5ad-3109392b4f7a",
   "metadata": {},
   "source": [
    "## Control Flow\n"
   ]
  },
  {
   "cell_type": "code",
   "execution_count": 27,
   "id": "12202fa3-ab7f-4004-b76c-8ddf2e7eb409",
   "metadata": {},
   "outputs": [
    {
     "name": "stdout",
     "output_type": "stream",
     "text": [
      "you can vote\n"
     ]
    }
   ],
   "source": [
    "##if statements\n",
    "age= 18 #already defined value for variable\n",
    "if age>=18: #Check colon\n",
    "    print(\"you can vote\") #check indentation"
   ]
  },
  {
   "cell_type": "code",
   "execution_count": 5,
   "id": "eacf5af1-fbdc-4af5-a7f8-8a81c6f9f0f0",
   "metadata": {},
   "outputs": [
    {
     "name": "stdin",
     "output_type": "stream",
     "text": [
      "Enter the name : manu\n"
     ]
    }
   ],
   "source": [
    "name = input(\"Enter the name :\")#Taking a Input\n"
   ]
  },
  {
   "cell_type": "code",
   "execution_count": 11,
   "id": "83113730-a9d8-4b87-bdd9-b7c1045f6443",
   "metadata": {},
   "outputs": [
    {
     "name": "stdin",
     "output_type": "stream",
     "text": [
      "Enter your age : 29\n"
     ]
    }
   ],
   "source": [
    "age= int(input(\"Enter your age :\"))"
   ]
  },
  {
   "cell_type": "code",
   "execution_count": null,
   "id": "2ee7fb20-e77b-42ce-b9d1-4885679bffca",
   "metadata": {},
   "outputs": [],
   "source": [
    "##Task - Input age and Check it with a Condition"
   ]
  },
  {
   "cell_type": "code",
   "execution_count": 25,
   "id": "c2e538b8-d76b-43df-a4f1-de3f3b962444",
   "metadata": {},
   "outputs": [
    {
     "name": "stdin",
     "output_type": "stream",
     "text": [
      "Enter your age : 29\n"
     ]
    },
    {
     "name": "stdout",
     "output_type": "stream",
     "text": [
      "You are a young blood\n"
     ]
    }
   ],
   "source": [
    "age = int(input(\"Enter your age :\"))\n",
    "if age >=18 and age <=45: #Check \"no braces\" used  and how \"and\" is written\n",
    "    print(\"You are a young blood\")\n",
    "else:\n",
    "    print(\"Not in the range\")"
   ]
  },
  {
   "cell_type": "code",
   "execution_count": null,
   "id": "f83219ba-709c-4a1e-8596-7cf2c640c1a5",
   "metadata": {},
   "outputs": [],
   "source": []
  },
  {
   "cell_type": "code",
   "execution_count": null,
   "id": "1011a227-2f05-420c-b98e-6b3eccc8f1be",
   "metadata": {},
   "outputs": [],
   "source": [
    "## Mall Problem\n",
    "## product >3000 , 20% off\n",
    "## price is == 4000 , trip to goa \n",
    "## product >= 2000  and <=3000 , 30% off\n",
    "## price == 2999 , will get a additional gift\n",
    "## product >100  and <2000 40% off\n",
    "## print the product price after removing discount"
   ]
  },
  {
   "cell_type": "code",
   "execution_count": 5,
   "id": "e2015cac-cd38-44e2-b10a-c44e6ae788a4",
   "metadata": {},
   "outputs": [
    {
     "name": "stdin",
     "output_type": "stream",
     "text": [
      "enter price :  4000\n"
     ]
    },
    {
     "name": "stdout",
     "output_type": "stream",
     "text": [
      "Congratulations you have won a trip to Goa\n",
      "the discounted price after, 20% dicount is: 3200.0\n"
     ]
    }
   ],
   "source": [
    "price = int(input(\"enter price : \"))\n",
    "if price >3000: \n",
    "    if price == 4000 : #Nested If\n",
    "        print(\"Congratulations you have won a trip to Goa\")\n",
    "    print(f\"the discounted price after, 20% dicount is: {price*.80}\")\n",
    "elif price >=2000 and price <=3000: \n",
    "    if (price == 2999) : print(\"you have won a additional gift\") # Single statement Suites\n",
    "    print(f\"the discounted price after, 30% dicount is : {price*.70}\")   \n",
    "elif price > 100 and price<2000 :\n",
    "    print(f\"the discounted price after, 40% dicount is : {price*.6}\")\n",
    "else :\n",
    "    print(\"Thanks for Visiting our Store\")"
   ]
  },
  {
   "cell_type": "code",
   "execution_count": null,
   "id": "1dee70fa-ae79-45fc-8339-f01d47ad8cfe",
   "metadata": {},
   "outputs": [],
   "source": []
  },
  {
   "cell_type": "code",
   "execution_count": null,
   "id": "884299e2-71bd-4552-92e3-b1cce89d3b39",
   "metadata": {},
   "outputs": [],
   "source": []
  }
 ],
 "metadata": {
  "kernelspec": {
   "display_name": "Python 3 (ipykernel)",
   "language": "python",
   "name": "python3"
  },
  "language_info": {
   "codemirror_mode": {
    "name": "ipython",
    "version": 3
   },
   "file_extension": ".py",
   "mimetype": "text/x-python",
   "name": "python",
   "nbconvert_exporter": "python",
   "pygments_lexer": "ipython3",
   "version": "3.10.8"
  }
 },
 "nbformat": 4,
 "nbformat_minor": 5
}
